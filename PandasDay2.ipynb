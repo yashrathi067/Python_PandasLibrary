{
  "nbformat": 4,
  "nbformat_minor": 0,
  "metadata": {
    "colab": {
      "provenance": [],
      "authorship_tag": "ABX9TyOmEaRCQZGkhIYDf+Ee7Wxn",
      "include_colab_link": true
    },
    "kernelspec": {
      "name": "python3",
      "display_name": "Python 3"
    },
    "language_info": {
      "name": "python"
    }
  },
  "cells": [
    {
      "cell_type": "markdown",
      "metadata": {
        "id": "view-in-github",
        "colab_type": "text"
      },
      "source": [
        "<a href=\"https://colab.research.google.com/github/yashrathi067/Python_PandasLibrary/blob/main/PandasDay2.ipynb\" target=\"_parent\"><img src=\"https://colab.research.google.com/assets/colab-badge.svg\" alt=\"Open In Colab\"/></a>"
      ]
    },
    {
      "cell_type": "code",
      "execution_count": null,
      "metadata": {
        "id": "5x6TuMXZicoZ"
      },
      "outputs": [],
      "source": [
        "import numpy as np\n",
        "import pandas as pd"
      ]
    },
    {
      "cell_type": "code",
      "source": [
        "from numpy.random import default_rng\n",
        "rng = default_rng()\n",
        "\n",
        "\n",
        "dates = pd.date_range(\"20230315\",\n",
        "                      periods=6)\n",
        "\n",
        "df = pd.DataFrame(rng.standard_normal((6, 4)),\n",
        "                  index=dates,\n",
        "                  columns=list(\"ABCD\"))\n",
        "\n",
        "print(df)"
      ],
      "metadata": {
        "colab": {
          "base_uri": "https://localhost:8080/"
        },
        "id": "YL2eODgFnNu7",
        "outputId": "34e09ee3-d476-4e2c-b35d-84a56efc1f0f"
      },
      "execution_count": null,
      "outputs": [
        {
          "output_type": "stream",
          "name": "stdout",
          "text": [
            "                   A         B         C         D\n",
            "2023-03-15 -1.493109  1.644098  3.201946  0.841093\n",
            "2023-03-16 -0.262867 -0.335715 -0.590778 -1.248961\n",
            "2023-03-17 -1.253467 -0.839958 -0.500576  0.326647\n",
            "2023-03-18 -2.332531  0.385915 -0.419196  0.177206\n",
            "2023-03-19  0.082989 -1.050278  0.268596 -0.006725\n",
            "2023-03-20  0.784859  0.485464  0.126775 -0.176310\n"
          ]
        }
      ]
    },
    {
      "cell_type": "code",
      "source": [
        "print(\"############\")\n",
        "df1= df.copy()\n",
        "\n",
        "df1['E'] = [5,np.nan,100,np.nan,200,500]\n",
        "\n",
        "print(df1)\n",
        "# Check which cells are Missing (NaN)\n",
        "print(df1.isna())\n",
        "print(df1.isnull())"
      ],
      "metadata": {
        "colab": {
          "base_uri": "https://localhost:8080/"
        },
        "id": "VpUN-gD3qSFB",
        "outputId": "d24ad435-9159-447c-c0a7-351590fa75e0"
      },
      "execution_count": null,
      "outputs": [
        {
          "output_type": "stream",
          "name": "stdout",
          "text": [
            "############\n",
            "                   A         B         C         D      E\n",
            "2023-03-15 -1.493109  1.644098  3.201946  0.841093    5.0\n",
            "2023-03-16 -0.262867 -0.335715 -0.590778 -1.248961    NaN\n",
            "2023-03-17 -1.253467 -0.839958 -0.500576  0.326647  100.0\n",
            "2023-03-18 -2.332531  0.385915 -0.419196  0.177206    NaN\n",
            "2023-03-19  0.082989 -1.050278  0.268596 -0.006725  200.0\n",
            "2023-03-20  0.784859  0.485464  0.126775 -0.176310  500.0\n",
            "                A      B      C      D      E\n",
            "2023-03-15  False  False  False  False  False\n",
            "2023-03-16  False  False  False  False   True\n",
            "2023-03-17  False  False  False  False  False\n",
            "2023-03-18  False  False  False  False   True\n",
            "2023-03-19  False  False  False  False  False\n",
            "2023-03-20  False  False  False  False  False\n",
            "                A      B      C      D      E\n",
            "2023-03-15  False  False  False  False  False\n",
            "2023-03-16  False  False  False  False   True\n",
            "2023-03-17  False  False  False  False  False\n",
            "2023-03-18  False  False  False  False   True\n",
            "2023-03-19  False  False  False  False  False\n",
            "2023-03-20  False  False  False  False  False\n"
          ]
        }
      ]
    },
    {
      "cell_type": "code",
      "source": [
        "print(df1)\n",
        "print(df1.fillna(value=df1.mean())) #filling the missing values where is NaN."
      ],
      "metadata": {
        "colab": {
          "base_uri": "https://localhost:8080/"
        },
        "id": "RBEsknFsqgTL",
        "outputId": "addfb2a7-33ee-46ee-af1f-272839e9bb32"
      },
      "execution_count": null,
      "outputs": [
        {
          "output_type": "stream",
          "name": "stdout",
          "text": [
            "                   A         B         C         D      E\n",
            "2023-03-15 -1.493109  1.644098  3.201946  0.841093    5.0\n",
            "2023-03-16 -0.262867 -0.335715 -0.590778 -1.248961    NaN\n",
            "2023-03-17 -1.253467 -0.839958 -0.500576  0.326647  100.0\n",
            "2023-03-18 -2.332531  0.385915 -0.419196  0.177206    NaN\n",
            "2023-03-19  0.082989 -1.050278  0.268596 -0.006725  200.0\n",
            "2023-03-20  0.784859  0.485464  0.126775 -0.176310  500.0\n",
            "                   A         B         C         D       E\n",
            "2023-03-15 -1.493109  1.644098  3.201946  0.841093    5.00\n",
            "2023-03-16 -0.262867 -0.335715 -0.590778 -1.248961  201.25\n",
            "2023-03-17 -1.253467 -0.839958 -0.500576  0.326647  100.00\n",
            "2023-03-18 -2.332531  0.385915 -0.419196  0.177206  201.25\n",
            "2023-03-19  0.082989 -1.050278  0.268596 -0.006725  200.00\n",
            "2023-03-20  0.784859  0.485464  0.126775 -0.176310  500.00\n"
          ]
        }
      ]
    },
    {
      "cell_type": "code",
      "source": [
        "df1=df.copy()\n",
        "print(df1)\n",
        "# rename column B with BBB\n",
        "df1['BBB'] = df1['B']\n",
        "df1.drop(['B'], axis=1,inplace=True)\n",
        "print(df1)\n"
      ],
      "metadata": {
        "colab": {
          "base_uri": "https://localhost:8080/"
        },
        "id": "EOkg_zJKsBD5",
        "outputId": "bd4492b5-446b-4af2-f0e1-ff526b2a7a67"
      },
      "execution_count": null,
      "outputs": [
        {
          "output_type": "stream",
          "name": "stdout",
          "text": [
            "                   A         B         C         D\n",
            "2023-03-15 -1.493109  1.644098  3.201946  0.841093\n",
            "2023-03-16 -0.262867 -0.335715 -0.590778 -1.248961\n",
            "2023-03-17 -1.253467 -0.839958 -0.500576  0.326647\n",
            "2023-03-18 -2.332531  0.385915 -0.419196  0.177206\n",
            "2023-03-19  0.082989 -1.050278  0.268596 -0.006725\n",
            "2023-03-20  0.784859  0.485464  0.126775 -0.176310\n",
            "                   A         C         D       BBB\n",
            "2023-03-15 -1.493109  3.201946  0.841093  1.644098\n",
            "2023-03-16 -0.262867 -0.590778 -1.248961 -0.335715\n",
            "2023-03-17 -1.253467 -0.500576  0.326647 -0.839958\n",
            "2023-03-18 -2.332531 -0.419196  0.177206  0.385915\n",
            "2023-03-19  0.082989  0.268596 -0.006725 -1.050278\n",
            "2023-03-20  0.784859  0.126775 -0.176310  0.485464\n"
          ]
        }
      ]
    },
    {
      "cell_type": "code",
      "source": [
        "data=[[10,20000,1000,1],[20,30000,2000,2],[30,40000,3000,3]]\n",
        "df=pd.DataFrame(data,columns=['empid','basicsalary','TA','deptno'],index=['A','B','C'])\n",
        "print(df)"
      ],
      "metadata": {
        "colab": {
          "base_uri": "https://localhost:8080/"
        },
        "id": "qBHDVDuWvZoF",
        "outputId": "af82c7d4-4d97-4702-9da9-cc4b1cfd82c1"
      },
      "execution_count": null,
      "outputs": [
        {
          "output_type": "stream",
          "name": "stdout",
          "text": [
            "   empid  basicsalary    TA  deptno\n",
            "A     10        20000  1000       1\n",
            "B     20        30000  2000       2\n",
            "C     30        40000  3000       3\n"
          ]
        }
      ]
    },
    {
      "cell_type": "code",
      "source": [
        "print(df.apply(lambda x: x.max()))  # apply () applies given function on ALL columns one by one"
      ],
      "metadata": {
        "colab": {
          "base_uri": "https://localhost:8080/"
        },
        "id": "g-DjAjehzBEK",
        "outputId": "e3c33dcf-591d-41dd-9a2e-902a0f12ab90"
      },
      "execution_count": null,
      "outputs": [
        {
          "output_type": "stream",
          "name": "stdout",
          "text": [
            "empid             30\n",
            "basicsalary    40000\n",
            "TA              3000\n",
            "dtype: int64\n"
          ]
        }
      ]
    },
    {
      "cell_type": "code",
      "source": [
        "def findmax(x):  #by creating function\n",
        "  return max(x)\n",
        "df.apply(findmax)"
      ],
      "metadata": {
        "colab": {
          "base_uri": "https://localhost:8080/",
          "height": 178
        },
        "id": "F-LVyB91z7IY",
        "outputId": "9cc03d9c-8d92-4a05-8861-f12215401e7f"
      },
      "execution_count": null,
      "outputs": [
        {
          "output_type": "execute_result",
          "data": {
            "text/plain": [
              "empid             30\n",
              "basicsalary    40000\n",
              "TA              3000\n",
              "dtype: int64"
            ],
            "text/html": [
              "<div>\n",
              "<style scoped>\n",
              "    .dataframe tbody tr th:only-of-type {\n",
              "        vertical-align: middle;\n",
              "    }\n",
              "\n",
              "    .dataframe tbody tr th {\n",
              "        vertical-align: top;\n",
              "    }\n",
              "\n",
              "    .dataframe thead th {\n",
              "        text-align: right;\n",
              "    }\n",
              "</style>\n",
              "<table border=\"1\" class=\"dataframe\">\n",
              "  <thead>\n",
              "    <tr style=\"text-align: right;\">\n",
              "      <th></th>\n",
              "      <th>0</th>\n",
              "    </tr>\n",
              "  </thead>\n",
              "  <tbody>\n",
              "    <tr>\n",
              "      <th>empid</th>\n",
              "      <td>30</td>\n",
              "    </tr>\n",
              "    <tr>\n",
              "      <th>basicsalary</th>\n",
              "      <td>40000</td>\n",
              "    </tr>\n",
              "    <tr>\n",
              "      <th>TA</th>\n",
              "      <td>3000</td>\n",
              "    </tr>\n",
              "  </tbody>\n",
              "</table>\n",
              "</div><br><label><b>dtype:</b> int64</label>"
            ]
          },
          "metadata": {},
          "execution_count": 24
        }
      ]
    },
    {
      "cell_type": "code",
      "source": [
        "print(df.iloc[:,0:2].apply(lambda x: x.min())) #to apply for particular rows only using slicing"
      ],
      "metadata": {
        "colab": {
          "base_uri": "https://localhost:8080/"
        },
        "id": "Kk3pBmvl0YJJ",
        "outputId": "820e3c39-bd75-417c-a803-4d9ab3a41730"
      },
      "execution_count": null,
      "outputs": [
        {
          "output_type": "stream",
          "name": "stdout",
          "text": [
            "empid             10\n",
            "basicsalary    20000\n",
            "dtype: int64\n"
          ]
        }
      ]
    },
    {
      "cell_type": "code",
      "source": [
        "# String column handling\n",
        "s = pd.Series([10.2,\"A\", \"B\", \"C\", \"Aaba  \", \"Baca  \",\n",
        "                np.nan, \"  CABA\", \"  dog\",\n",
        "               \"cat  \"])\n",
        "\n",
        "print(s.str.lower().str.strip())  #Functional Programming(2 functions used here)\n",
        "\n",
        "print(s.str.endswith(\"a\")) # case sensitive"
      ],
      "metadata": {
        "colab": {
          "base_uri": "https://localhost:8080/"
        },
        "id": "GPmSUTJF2OYd",
        "outputId": "d5128989-759b-463c-a634-95b96d21d31f"
      },
      "execution_count": null,
      "outputs": [
        {
          "output_type": "stream",
          "name": "stdout",
          "text": [
            "0     NaN\n",
            "1       a\n",
            "2       b\n",
            "3       c\n",
            "4    aaba\n",
            "5    baca\n",
            "6     NaN\n",
            "7    caba\n",
            "8     dog\n",
            "9     cat\n",
            "dtype: object\n",
            "0      NaN\n",
            "1    False\n",
            "2    False\n",
            "3    False\n",
            "4    False\n",
            "5    False\n",
            "6      NaN\n",
            "7    False\n",
            "8    False\n",
            "9    False\n",
            "dtype: object\n"
          ]
        }
      ]
    },
    {
      "cell_type": "code",
      "source": [
        "print(df)"
      ],
      "metadata": {
        "colab": {
          "base_uri": "https://localhost:8080/"
        },
        "id": "yCjTsiS0FpVX",
        "outputId": "bf909f6e-dafe-480f-95f3-a565bd98d83c"
      },
      "execution_count": null,
      "outputs": [
        {
          "output_type": "stream",
          "name": "stdout",
          "text": [
            "   empid  basicsalary    TA\n",
            "A     10        20000  1000\n",
            "B     20        30000  2000\n",
            "C     30        40000  3000\n"
          ]
        }
      ]
    },
    {
      "cell_type": "code",
      "source": [
        "df['Total']=df['basicsalary']+df['TA']  # add two columns and create new column\n",
        "print(df)"
      ],
      "metadata": {
        "colab": {
          "base_uri": "https://localhost:8080/"
        },
        "id": "jxDvzkLGFs1A",
        "outputId": "dacdf683-7d82-4249-cea6-72572aac54da"
      },
      "execution_count": null,
      "outputs": [
        {
          "output_type": "stream",
          "name": "stdout",
          "text": [
            "   empid  basicsalary    TA  Total\n",
            "A     10        20000  1000  21000\n",
            "B     20        30000  2000  32000\n",
            "C     30        40000  3000  43000\n"
          ]
        }
      ]
    },
    {
      "cell_type": "code",
      "source": [
        "print(df)"
      ],
      "metadata": {
        "colab": {
          "base_uri": "https://localhost:8080/"
        },
        "id": "WQXrXGNiHc0j",
        "outputId": "feb8d48d-8d5f-427b-f0b0-201b43447b1b"
      },
      "execution_count": null,
      "outputs": [
        {
          "output_type": "stream",
          "name": "stdout",
          "text": [
            "   empid  basicsalary    TA  deptno\n",
            "A     10        20000  1000       1\n",
            "B     20        30000  2000       2\n",
            "C     30        40000  3000       3\n"
          ]
        }
      ]
    },
    {
      "cell_type": "code",
      "source": [
        "data=([1,'hr'],[2,'sales'],[3,'clerk'],[4,'analyst'])\n",
        "df1=pd.DataFrame(data,columns=['deptno','deptname'],index=range(0,4))\n",
        "print(df1)"
      ],
      "metadata": {
        "colab": {
          "base_uri": "https://localhost:8080/"
        },
        "id": "DffvpWgxLtIh",
        "outputId": "f1c70f12-c2c2-4088-cd60-bcadab1e16ab"
      },
      "execution_count": null,
      "outputs": [
        {
          "output_type": "stream",
          "name": "stdout",
          "text": [
            "   deptno deptname\n",
            "0       1       hr\n",
            "1       2    sales\n",
            "2       3    clerk\n",
            "3       4  analyst\n"
          ]
        }
      ]
    },
    {
      "cell_type": "code",
      "source": [
        "print(pd.merge(df,df1,on='deptno')) # merge function to join two tables."
      ],
      "metadata": {
        "colab": {
          "base_uri": "https://localhost:8080/"
        },
        "id": "H2nZhGCrMftn",
        "outputId": "eff125f4-29f1-4117-a882-492479638b87"
      },
      "execution_count": null,
      "outputs": [
        {
          "output_type": "stream",
          "name": "stdout",
          "text": [
            "   empid  basicsalary    TA  deptno deptname\n",
            "0     10        20000  1000       1       hr\n",
            "1     20        30000  2000       2    sales\n",
            "2     30        40000  3000       3    clerk\n"
          ]
        }
      ]
    },
    {
      "cell_type": "code",
      "source": [
        "print(df.groupby('deptno')[['basicsalary']].sum())"
      ],
      "metadata": {
        "colab": {
          "base_uri": "https://localhost:8080/"
        },
        "id": "MYyKP-BZRPO2",
        "outputId": "2f393616-36ca-4d48-9ba9-1e570aec8576"
      },
      "execution_count": null,
      "outputs": [
        {
          "output_type": "stream",
          "name": "stdout",
          "text": [
            "        basicsalary\n",
            "deptno             \n",
            "1             20000\n",
            "2             30000\n",
            "3             40000\n"
          ]
        }
      ]
    },
    {
      "cell_type": "code",
      "source": [
        "print(df)"
      ],
      "metadata": {
        "colab": {
          "base_uri": "https://localhost:8080/"
        },
        "id": "uJQeWaEtR0T4",
        "outputId": "715c3f32-7522-45e3-a6d3-4a0eacd31707"
      },
      "execution_count": null,
      "outputs": [
        {
          "output_type": "stream",
          "name": "stdout",
          "text": [
            "   empid  basicsalary    TA  deptno\n",
            "A     10        20000  1000       1\n",
            "B     20        30000  2000       2\n",
            "C     30        40000  3000       3\n"
          ]
        }
      ]
    },
    {
      "cell_type": "markdown",
      "source": [
        "**Practice Questions:**"
      ],
      "metadata": {
        "id": "p7dAFRuiVL7I"
      }
    },
    {
      "cell_type": "code",
      "source": [
        "d=pd.read_csv('/content/EmployeeAttrition (1).csv')\n",
        "d1=pd.read_csv('/content/MarketArrivals.csv')\n",
        "d2=pd.read_csv('/content/lung_data.csv')"
      ],
      "metadata": {
        "id": "IVJ8HjfFVQQ3"
      },
      "execution_count": null,
      "outputs": []
    },
    {
      "cell_type": "code",
      "source": [
        "d2.info()"
      ],
      "metadata": {
        "colab": {
          "base_uri": "https://localhost:8080/"
        },
        "id": "R5wTGN9gV3nZ",
        "outputId": "97f77085-87c3-413f-d5cf-c6ec4aa9fb39"
      },
      "execution_count": null,
      "outputs": [
        {
          "output_type": "stream",
          "name": "stdout",
          "text": [
            "<class 'pandas.core.frame.DataFrame'>\n",
            "RangeIndex: 324 entries, 0 to 323\n",
            "Data columns (total 35 columns):\n",
            " #   Column                            Non-Null Count  Dtype  \n",
            "---  ------                            --------------  -----  \n",
            " 0   age                               324 non-null    float64\n",
            " 1   gender                            324 non-null    int64  \n",
            " 2   city                              324 non-null    int64  \n",
            " 3   asbestos exposure                 324 non-null    int64  \n",
            " 4   type of MM                        324 non-null    float64\n",
            " 5   duration of asbestos exposure     324 non-null    float64\n",
            " 6   diagnosis method                  324 non-null    int64  \n",
            " 7   keep side                         324 non-null    int64  \n",
            " 8   cytology                          324 non-null    int64  \n",
            " 9   duration of symptoms              324 non-null    float64\n",
            " 10  dyspnoea                          324 non-null    int64  \n",
            " 11  ache on chest                     324 non-null    int64  \n",
            " 12  weakness                          324 non-null    int64  \n",
            " 13  habit of cigarette                324 non-null    int64  \n",
            " 14  performance status                324 non-null    int64  \n",
            " 15  white blood                       324 non-null    float64\n",
            " 16  cell count (WBC)                  324 non-null    int64  \n",
            " 17  hemoglobin (HGB)                  324 non-null    int64  \n",
            " 18  platelet count (PLT)              324 non-null    float64\n",
            " 19  sedimentation                     324 non-null    float64\n",
            " 20  blood lactic dehydrogenise (LDH)  324 non-null    float64\n",
            " 21  alkaline phosphatise (ALP)        324 non-null    float64\n",
            " 22  total protein                     324 non-null    float64\n",
            " 23  albumin                           324 non-null    float64\n",
            " 24  glucose                           324 non-null    float64\n",
            " 25  pleural lactic dehydrogenise      324 non-null    float64\n",
            " 26  pleural protein                   324 non-null    float64\n",
            " 27  pleural albumin                   324 non-null    float64\n",
            " 28  pleural glucose                   324 non-null    float64\n",
            " 29  dead or not                       324 non-null    int64  \n",
            " 30  pleural effusion                  324 non-null    float64\n",
            " 31  pleural thickness on tomography   324 non-null    float64\n",
            " 32  pleural level of acidity (pH)     324 non-null    float64\n",
            " 33  C-reactive protein (CRP)          324 non-null    int64  \n",
            " 34  class of diagnosis                324 non-null    int64  \n",
            "dtypes: float64(19), int64(16)\n",
            "memory usage: 88.7 KB\n"
          ]
        }
      ]
    },
    {
      "cell_type": "code",
      "source": [
        "df1=d.copy()\n",
        "df2=d1.copy()\n",
        "df3=d2.copy()\n",
        "print(df1.isnull()) #to check null values\n",
        "print(df2.isnull())\n",
        "print(df3.isnull())"
      ],
      "metadata": {
        "colab": {
          "base_uri": "https://localhost:8080/"
        },
        "id": "KJP3rW4GWTNV",
        "outputId": "59d1ebdc-9f98-4092-d1f3-c2859166a385"
      },
      "execution_count": null,
      "outputs": [
        {
          "output_type": "stream",
          "name": "stdout",
          "text": [
            "        Age  Attrition  BusinessTravel  DailyRate  Department  \\\n",
            "0     False      False           False      False       False   \n",
            "1     False      False           False      False       False   \n",
            "2     False      False           False      False       False   \n",
            "3     False      False           False      False       False   \n",
            "4     False      False           False      False       False   \n",
            "...     ...        ...             ...        ...         ...   \n",
            "1465  False      False           False      False       False   \n",
            "1466  False      False           False      False       False   \n",
            "1467  False      False           False      False       False   \n",
            "1468  False      False           False      False       False   \n",
            "1469  False      False           False      False       False   \n",
            "\n",
            "      DistanceFromHome  Education  EducationField  EmployeeCount  \\\n",
            "0                False      False           False          False   \n",
            "1                False      False           False          False   \n",
            "2                False      False           False          False   \n",
            "3                False      False           False          False   \n",
            "4                False      False           False          False   \n",
            "...                ...        ...             ...            ...   \n",
            "1465             False      False           False          False   \n",
            "1466             False      False           False          False   \n",
            "1467             False      False           False          False   \n",
            "1468             False      False           False          False   \n",
            "1469             False      False           False          False   \n",
            "\n",
            "      EmployeeNumber  ...  RelationshipSatisfaction  StandardHours  \\\n",
            "0              False  ...                     False          False   \n",
            "1              False  ...                     False          False   \n",
            "2              False  ...                     False          False   \n",
            "3              False  ...                     False          False   \n",
            "4              False  ...                     False          False   \n",
            "...              ...  ...                       ...            ...   \n",
            "1465           False  ...                     False          False   \n",
            "1466           False  ...                     False          False   \n",
            "1467           False  ...                     False          False   \n",
            "1468           False  ...                     False          False   \n",
            "1469           False  ...                     False          False   \n",
            "\n",
            "      StockOptionLevel  TotalWorkingYears  TrainingTimesLastYear  \\\n",
            "0                False              False                  False   \n",
            "1                False              False                  False   \n",
            "2                False              False                  False   \n",
            "3                False              False                  False   \n",
            "4                False              False                  False   \n",
            "...                ...                ...                    ...   \n",
            "1465             False              False                  False   \n",
            "1466             False              False                  False   \n",
            "1467             False              False                  False   \n",
            "1468             False              False                  False   \n",
            "1469             False              False                  False   \n",
            "\n",
            "      WorkLifeBalance  YearsAtCompany  YearsInCurrentRole  \\\n",
            "0               False           False               False   \n",
            "1               False           False               False   \n",
            "2               False           False               False   \n",
            "3               False           False               False   \n",
            "4               False           False               False   \n",
            "...               ...             ...                 ...   \n",
            "1465            False           False               False   \n",
            "1466            False           False               False   \n",
            "1467            False           False               False   \n",
            "1468            False           False               False   \n",
            "1469            False           False               False   \n",
            "\n",
            "      YearsSinceLastPromotion  YearsWithCurrManager  \n",
            "0                       False                 False  \n",
            "1                       False                 False  \n",
            "2                       False                 False  \n",
            "3                       False                 False  \n",
            "4                       False                 False  \n",
            "...                       ...                   ...  \n",
            "1465                    False                 False  \n",
            "1466                    False                 False  \n",
            "1467                    False                 False  \n",
            "1468                    False                 False  \n",
            "1469                    False                 False  \n",
            "\n",
            "[1470 rows x 35 columns]\n",
            "       market  month   year  quantity  priceMin  priceMax  priceMod  state  \\\n",
            "0       False  False  False     False     False     False     False  False   \n",
            "1       False  False  False     False     False     False     False  False   \n",
            "2       False  False  False     False     False     False     False  False   \n",
            "3       False  False  False     False     False     False     False  False   \n",
            "4       False  False  False     False     False     False     False  False   \n",
            "...       ...    ...    ...       ...       ...       ...       ...    ...   \n",
            "10222   False  False  False     False     False     False     False  False   \n",
            "10223   False  False  False     False     False     False     False  False   \n",
            "10224   False  False  False     False     False     False     False  False   \n",
            "10225   False  False  False     False     False     False     False  False   \n",
            "10226   False  False  False     False     False     False     False  False   \n",
            "\n",
            "        city   date  \n",
            "0      False  False  \n",
            "1      False  False  \n",
            "2      False  False  \n",
            "3      False  False  \n",
            "4      False  False  \n",
            "...      ...    ...  \n",
            "10222  False  False  \n",
            "10223  False  False  \n",
            "10224  False  False  \n",
            "10225  False  False  \n",
            "10226  False  False  \n",
            "\n",
            "[10227 rows x 10 columns]\n",
            "       age  gender   city  asbestos exposure  type of MM  \\\n",
            "0    False   False  False              False       False   \n",
            "1    False   False  False              False       False   \n",
            "2    False   False  False              False       False   \n",
            "3    False   False  False              False       False   \n",
            "4    False   False  False              False       False   \n",
            "..     ...     ...    ...                ...         ...   \n",
            "319  False   False  False              False       False   \n",
            "320  False   False  False              False       False   \n",
            "321  False   False  False              False       False   \n",
            "322  False   False  False              False       False   \n",
            "323  False   False  False              False       False   \n",
            "\n",
            "     duration of asbestos exposure  diagnosis method  keep side  cytology  \\\n",
            "0                            False             False      False     False   \n",
            "1                            False             False      False     False   \n",
            "2                            False             False      False     False   \n",
            "3                            False             False      False     False   \n",
            "4                            False             False      False     False   \n",
            "..                             ...               ...        ...       ...   \n",
            "319                          False             False      False     False   \n",
            "320                          False             False      False     False   \n",
            "321                          False             False      False     False   \n",
            "322                          False             False      False     False   \n",
            "323                          False             False      False     False   \n",
            "\n",
            "     duration of symptoms  ...  pleural lactic dehydrogenise  pleural protein  \\\n",
            "0                   False  ...                         False            False   \n",
            "1                   False  ...                         False            False   \n",
            "2                   False  ...                         False            False   \n",
            "3                   False  ...                         False            False   \n",
            "4                   False  ...                         False            False   \n",
            "..                    ...  ...                           ...              ...   \n",
            "319                 False  ...                         False            False   \n",
            "320                 False  ...                         False            False   \n",
            "321                 False  ...                         False            False   \n",
            "322                 False  ...                         False            False   \n",
            "323                 False  ...                         False            False   \n",
            "\n",
            "     pleural albumin  pleural glucose  dead or not  pleural effusion  \\\n",
            "0              False            False        False             False   \n",
            "1              False            False        False             False   \n",
            "2              False            False        False             False   \n",
            "3              False            False        False             False   \n",
            "4              False            False        False             False   \n",
            "..               ...              ...          ...               ...   \n",
            "319            False            False        False             False   \n",
            "320            False            False        False             False   \n",
            "321            False            False        False             False   \n",
            "322            False            False        False             False   \n",
            "323            False            False        False             False   \n",
            "\n",
            "     pleural thickness on tomography  pleural level of acidity (pH)  \\\n",
            "0                              False                          False   \n",
            "1                              False                          False   \n",
            "2                              False                          False   \n",
            "3                              False                          False   \n",
            "4                              False                          False   \n",
            "..                               ...                            ...   \n",
            "319                            False                          False   \n",
            "320                            False                          False   \n",
            "321                            False                          False   \n",
            "322                            False                          False   \n",
            "323                            False                          False   \n",
            "\n",
            "     C-reactive protein (CRP)  class of diagnosis  \n",
            "0                       False               False  \n",
            "1                       False               False  \n",
            "2                       False               False  \n",
            "3                       False               False  \n",
            "4                       False               False  \n",
            "..                        ...                 ...  \n",
            "319                     False               False  \n",
            "320                     False               False  \n",
            "321                     False               False  \n",
            "322                     False               False  \n",
            "323                     False               False  \n",
            "\n",
            "[324 rows x 35 columns]\n"
          ]
        }
      ]
    },
    {
      "cell_type": "code",
      "source": [
        "print(df1.iloc[:,0].isnull())\n",
        "print(df2.iloc[:,0].isnull())\n",
        "print(df3.iloc[:,0].isnull())"
      ],
      "metadata": {
        "colab": {
          "base_uri": "https://localhost:8080/"
        },
        "id": "i_qPDCdvXgBy",
        "outputId": "50cff4c3-a79c-46ef-e354-decc809b8fa1"
      },
      "execution_count": null,
      "outputs": [
        {
          "output_type": "stream",
          "name": "stdout",
          "text": [
            "0       False\n",
            "1       False\n",
            "2       False\n",
            "3       False\n",
            "4       False\n",
            "        ...  \n",
            "1465    False\n",
            "1466    False\n",
            "1467    False\n",
            "1468    False\n",
            "1469    False\n",
            "Name: Age, Length: 1470, dtype: bool\n",
            "0        False\n",
            "1        False\n",
            "2        False\n",
            "3        False\n",
            "4        False\n",
            "         ...  \n",
            "10222    False\n",
            "10223    False\n",
            "10224    False\n",
            "10225    False\n",
            "10226    False\n",
            "Name: market, Length: 10227, dtype: bool\n",
            "0      False\n",
            "1      False\n",
            "2      False\n",
            "3      False\n",
            "4      False\n",
            "       ...  \n",
            "319    False\n",
            "320    False\n",
            "321    False\n",
            "322    False\n",
            "323    False\n",
            "Name: age, Length: 324, dtype: bool\n"
          ]
        }
      ]
    },
    {
      "cell_type": "code",
      "source": [
        "df1.info()\n",
        "df3.info()"
      ],
      "metadata": {
        "colab": {
          "base_uri": "https://localhost:8080/"
        },
        "id": "U3HdwUAXbTPL",
        "outputId": "1e672dfc-5809-4607-821c-7def18219c33"
      },
      "execution_count": null,
      "outputs": [
        {
          "output_type": "stream",
          "name": "stdout",
          "text": [
            "<class 'pandas.core.frame.DataFrame'>\n",
            "RangeIndex: 1470 entries, 0 to 1469\n",
            "Data columns (total 35 columns):\n",
            " #   Column                    Non-Null Count  Dtype \n",
            "---  ------                    --------------  ----- \n",
            " 0   Age                       1470 non-null   int64 \n",
            " 1   Attrition                 1470 non-null   object\n",
            " 2   BusinessTravel            1470 non-null   object\n",
            " 3   DailyRate                 1470 non-null   int64 \n",
            " 4   Department                1470 non-null   object\n",
            " 5   DistanceFromHome          1470 non-null   int64 \n",
            " 6   Education                 1470 non-null   int64 \n",
            " 7   EducationField            1470 non-null   object\n",
            " 8   EmployeeCount             1470 non-null   int64 \n",
            " 9   EmployeeNumber            1470 non-null   int64 \n",
            " 10  EnvironmentSatisfaction   1470 non-null   int64 \n",
            " 11  Gender                    1470 non-null   object\n",
            " 12  HourlyRate                1470 non-null   int64 \n",
            " 13  JobInvolvement            1470 non-null   int64 \n",
            " 14  JobLevel                  1470 non-null   int64 \n",
            " 15  JobRole                   1470 non-null   object\n",
            " 16  JobSatisfaction           1470 non-null   int64 \n",
            " 17  MaritalStatus             1470 non-null   object\n",
            " 18  MonthlyIncome             1470 non-null   int64 \n",
            " 19  MonthlyRate               1470 non-null   int64 \n",
            " 20  NumCompaniesWorked        1470 non-null   int64 \n",
            " 21  Over18                    1470 non-null   object\n",
            " 22  OverTime                  1470 non-null   object\n",
            " 23  PercentSalaryHike         1470 non-null   int64 \n",
            " 24  PerformanceRating         1470 non-null   int64 \n",
            " 25  RelationshipSatisfaction  1470 non-null   int64 \n",
            " 26  StandardHours             1470 non-null   int64 \n",
            " 27  StockOptionLevel          1470 non-null   int64 \n",
            " 28  TotalWorkingYears         1470 non-null   int64 \n",
            " 29  TrainingTimesLastYear     1470 non-null   int64 \n",
            " 30  WorkLifeBalance           1470 non-null   int64 \n",
            " 31  YearsAtCompany            1470 non-null   int64 \n",
            " 32  YearsInCurrentRole        1470 non-null   int64 \n",
            " 33  YearsSinceLastPromotion   1470 non-null   int64 \n",
            " 34  YearsWithCurrManager      1470 non-null   int64 \n",
            "dtypes: int64(26), object(9)\n",
            "memory usage: 402.1+ KB\n",
            "<class 'pandas.core.frame.DataFrame'>\n",
            "RangeIndex: 324 entries, 0 to 323\n",
            "Data columns (total 35 columns):\n",
            " #   Column                            Non-Null Count  Dtype  \n",
            "---  ------                            --------------  -----  \n",
            " 0   age                               324 non-null    float64\n",
            " 1   gender                            324 non-null    int64  \n",
            " 2   city                              324 non-null    int64  \n",
            " 3   asbestos exposure                 324 non-null    int64  \n",
            " 4   type of MM                        324 non-null    float64\n",
            " 5   duration of asbestos exposure     324 non-null    float64\n",
            " 6   diagnosis method                  324 non-null    int64  \n",
            " 7   keep side                         324 non-null    int64  \n",
            " 8   cytology                          324 non-null    int64  \n",
            " 9   duration of symptoms              324 non-null    float64\n",
            " 10  dyspnoea                          324 non-null    int64  \n",
            " 11  ache on chest                     324 non-null    int64  \n",
            " 12  weakness                          324 non-null    int64  \n",
            " 13  habit of cigarette                324 non-null    int64  \n",
            " 14  performance status                324 non-null    int64  \n",
            " 15  white blood                       324 non-null    float64\n",
            " 16  cell count (WBC)                  324 non-null    int64  \n",
            " 17  hemoglobin (HGB)                  324 non-null    int64  \n",
            " 18  platelet count (PLT)              324 non-null    float64\n",
            " 19  sedimentation                     324 non-null    float64\n",
            " 20  blood lactic dehydrogenise (LDH)  324 non-null    float64\n",
            " 21  alkaline phosphatise (ALP)        324 non-null    float64\n",
            " 22  total protein                     324 non-null    float64\n",
            " 23  albumin                           324 non-null    float64\n",
            " 24  glucose                           324 non-null    float64\n",
            " 25  pleural lactic dehydrogenise      324 non-null    float64\n",
            " 26  pleural protein                   324 non-null    float64\n",
            " 27  pleural albumin                   324 non-null    float64\n",
            " 28  pleural glucose                   324 non-null    float64\n",
            " 29  dead or not                       324 non-null    int64  \n",
            " 30  pleural effusion                  324 non-null    float64\n",
            " 31  pleural thickness on tomography   324 non-null    float64\n",
            " 32  pleural level of acidity (pH)     324 non-null    float64\n",
            " 33  C-reactive protein (CRP)          324 non-null    int64  \n",
            " 34  class of diagnosis                324 non-null    int64  \n",
            "dtypes: float64(19), int64(16)\n",
            "memory usage: 88.7 KB\n"
          ]
        }
      ]
    },
    {
      "cell_type": "code",
      "source": [
        "print(\"mean is:\")\n",
        "print()\n",
        "print(df3.mean())\n",
        "print()\n",
        "print(\"median is:\") # not object data type\n",
        "\n",
        "print(df3.median())"
      ],
      "metadata": {
        "colab": {
          "base_uri": "https://localhost:8080/"
        },
        "id": "y6ALpBh9cRDz",
        "outputId": "f59db358-02b3-4dc9-c52f-fd855cab7d65"
      },
      "execution_count": null,
      "outputs": [
        {
          "output_type": "stream",
          "name": "stdout",
          "text": [
            "mean is:\n",
            "\n",
            "age                                   54.743827\n",
            "gender                                 0.586420\n",
            "city                                   2.530864\n",
            "asbestos exposure                      0.864198\n",
            "type of MM                             0.052469\n",
            "duration of asbestos exposure         30.188272\n",
            "diagnosis method                       0.703704\n",
            "keep side                              0.759259\n",
            "cytology                               0.280864\n",
            "duration of symptoms                   5.442901\n",
            "dyspnoea                               0.817901\n",
            "ache on chest                          0.682099\n",
            "weakness                               0.611111\n",
            "habit of cigarette                     0.910494\n",
            "performance status                     0.521605\n",
            "white blood                         9457.453704\n",
            "cell count (WBC)                       9.558642\n",
            "hemoglobin (HGB)                       0.422840\n",
            "platelet count (PLT)                 369.651235\n",
            "sedimentation                         70.685185\n",
            "blood lactic dehydrogenise (LDH)     308.913580\n",
            "alkaline phosphatise (ALP)            66.163580\n",
            "total protein                          6.583796\n",
            "albumin                                3.301142\n",
            "glucose                              112.410494\n",
            "pleural lactic dehydrogenise         518.472222\n",
            "pleural protein                        3.937562\n",
            "pleural albumin                        2.076883\n",
            "pleural glucose                       48.444444\n",
            "dead or not                            0.944444\n",
            "pleural effusion                       0.870370\n",
            "pleural thickness on tomography        0.595679\n",
            "pleural level of acidity (pH)          0.521605\n",
            "C-reactive protein (CRP)              64.188272\n",
            "class of diagnosis                     1.296296\n",
            "dtype: float64\n",
            "\n",
            "median is:\n",
            "age                                   55.0\n",
            "gender                                 1.0\n",
            "city                                   2.0\n",
            "asbestos exposure                      1.0\n",
            "type of MM                             0.0\n",
            "duration of asbestos exposure         34.0\n",
            "diagnosis method                       1.0\n",
            "keep side                              1.0\n",
            "cytology                               0.0\n",
            "duration of symptoms                   5.0\n",
            "dyspnoea                               1.0\n",
            "ache on chest                          1.0\n",
            "weakness                               1.0\n",
            "habit of cigarette                     0.0\n",
            "performance status                     1.0\n",
            "white blood                         8757.5\n",
            "cell count (WBC)                       9.0\n",
            "hemoglobin (HGB)                       0.0\n",
            "platelet count (PLT)                 345.0\n",
            "sedimentation                         68.0\n",
            "blood lactic dehydrogenise (LDH)     234.5\n",
            "alkaline phosphatise (ALP)            62.0\n",
            "total protein                          6.6\n",
            "albumin                                3.4\n",
            "glucose                              104.0\n",
            "pleural lactic dehydrogenise         510.0\n",
            "pleural protein                        4.2\n",
            "pleural albumin                        2.2\n",
            "pleural glucose                       38.0\n",
            "dead or not                            1.0\n",
            "pleural effusion                       1.0\n",
            "pleural thickness on tomography        1.0\n",
            "pleural level of acidity (pH)          1.0\n",
            "C-reactive protein (CRP)              68.0\n",
            "class of diagnosis                     1.0\n",
            "dtype: float64\n"
          ]
        }
      ]
    },
    {
      "cell_type": "code",
      "source": [
        "df1['ageis']=df1['Age']\n",
        "print(df1)"
      ],
      "metadata": {
        "colab": {
          "base_uri": "https://localhost:8080/"
        },
        "id": "mDcFL_TAc44X",
        "outputId": "5103f48a-f9f2-4e13-d0d4-1e9772356c95"
      },
      "execution_count": null,
      "outputs": [
        {
          "output_type": "stream",
          "name": "stdout",
          "text": [
            "      Age Attrition     BusinessTravel  DailyRate              Department  \\\n",
            "0      41       Yes      Travel_Rarely       1102                   Sales   \n",
            "1      49        No  Travel_Frequently        279  Research & Development   \n",
            "2      37       Yes      Travel_Rarely       1373  Research & Development   \n",
            "3      33        No  Travel_Frequently       1392  Research & Development   \n",
            "4      27        No      Travel_Rarely        591  Research & Development   \n",
            "...   ...       ...                ...        ...                     ...   \n",
            "1465   36        No  Travel_Frequently        884  Research & Development   \n",
            "1466   39        No      Travel_Rarely        613  Research & Development   \n",
            "1467   27        No      Travel_Rarely        155  Research & Development   \n",
            "1468   49        No  Travel_Frequently       1023                   Sales   \n",
            "1469   34        No      Travel_Rarely        628  Research & Development   \n",
            "\n",
            "      DistanceFromHome  Education EducationField  EmployeeCount  \\\n",
            "0                    1          2  Life Sciences              1   \n",
            "1                    8          1  Life Sciences              1   \n",
            "2                    2          2          Other              1   \n",
            "3                    3          4  Life Sciences              1   \n",
            "4                    2          1        Medical              1   \n",
            "...                ...        ...            ...            ...   \n",
            "1465                23          2        Medical              1   \n",
            "1466                 6          1        Medical              1   \n",
            "1467                 4          3  Life Sciences              1   \n",
            "1468                 2          3        Medical              1   \n",
            "1469                 8          3        Medical              1   \n",
            "\n",
            "      EmployeeNumber  ...  StandardHours StockOptionLevel  TotalWorkingYears  \\\n",
            "0                  1  ...             80                0                  8   \n",
            "1                  2  ...             80                1                 10   \n",
            "2                  4  ...             80                0                  7   \n",
            "3                  5  ...             80                0                  8   \n",
            "4                  7  ...             80                1                  6   \n",
            "...              ...  ...            ...              ...                ...   \n",
            "1465            2061  ...             80                1                 17   \n",
            "1466            2062  ...             80                1                  9   \n",
            "1467            2064  ...             80                1                  6   \n",
            "1468            2065  ...             80                0                 17   \n",
            "1469            2068  ...             80                0                  6   \n",
            "\n",
            "      TrainingTimesLastYear  WorkLifeBalance YearsAtCompany  \\\n",
            "0                         0                1              6   \n",
            "1                         3                3             10   \n",
            "2                         3                3              0   \n",
            "3                         3                3              8   \n",
            "4                         3                3              2   \n",
            "...                     ...              ...            ...   \n",
            "1465                      3                3              5   \n",
            "1466                      5                3              7   \n",
            "1467                      0                3              6   \n",
            "1468                      3                2              9   \n",
            "1469                      3                4              4   \n",
            "\n",
            "      YearsInCurrentRole YearsSinceLastPromotion  YearsWithCurrManager  ageis  \n",
            "0                      4                       0                     5     41  \n",
            "1                      7                       1                     7     49  \n",
            "2                      0                       0                     0     37  \n",
            "3                      7                       3                     0     33  \n",
            "4                      2                       2                     2     27  \n",
            "...                  ...                     ...                   ...    ...  \n",
            "1465                   2                       0                     3     36  \n",
            "1466                   7                       1                     7     39  \n",
            "1467                   2                       0                     3     27  \n",
            "1468                   6                       0                     8     49  \n",
            "1469                   3                       1                     2     34  \n",
            "\n",
            "[1470 rows x 36 columns]\n"
          ]
        }
      ]
    },
    {
      "cell_type": "code",
      "source": [
        "print(df1.drop(['ageis'],axis=1,inplace=True))"
      ],
      "metadata": {
        "colab": {
          "base_uri": "https://localhost:8080/"
        },
        "id": "RzISRPBDdWYT",
        "outputId": "03e1a6b9-da6e-47c9-f369-766e7a44d06e"
      },
      "execution_count": null,
      "outputs": [
        {
          "output_type": "stream",
          "name": "stdout",
          "text": [
            "None\n"
          ]
        }
      ]
    },
    {
      "cell_type": "code",
      "source": [
        "df1.info()"
      ],
      "metadata": {
        "colab": {
          "base_uri": "https://localhost:8080/"
        },
        "id": "sYB88HJOdkKU",
        "outputId": "6e1825ed-04b4-4cf2-8bd0-03032d5dc43e"
      },
      "execution_count": null,
      "outputs": [
        {
          "output_type": "stream",
          "name": "stdout",
          "text": [
            "<class 'pandas.core.frame.DataFrame'>\n",
            "RangeIndex: 1470 entries, 0 to 1469\n",
            "Data columns (total 35 columns):\n",
            " #   Column                    Non-Null Count  Dtype \n",
            "---  ------                    --------------  ----- \n",
            " 0   Age                       1470 non-null   int64 \n",
            " 1   Attrition                 1470 non-null   object\n",
            " 2   BusinessTravel            1470 non-null   object\n",
            " 3   DailyRate                 1470 non-null   int64 \n",
            " 4   Department                1470 non-null   object\n",
            " 5   DistanceFromHome          1470 non-null   int64 \n",
            " 6   Education                 1470 non-null   int64 \n",
            " 7   EducationField            1470 non-null   object\n",
            " 8   EmployeeCount             1470 non-null   int64 \n",
            " 9   EmployeeNumber            1470 non-null   int64 \n",
            " 10  EnvironmentSatisfaction   1470 non-null   int64 \n",
            " 11  Gender                    1470 non-null   object\n",
            " 12  HourlyRate                1470 non-null   int64 \n",
            " 13  JobInvolvement            1470 non-null   int64 \n",
            " 14  JobLevel                  1470 non-null   int64 \n",
            " 15  JobRole                   1470 non-null   object\n",
            " 16  JobSatisfaction           1470 non-null   int64 \n",
            " 17  MaritalStatus             1470 non-null   object\n",
            " 18  MonthlyIncome             1470 non-null   int64 \n",
            " 19  MonthlyRate               1470 non-null   int64 \n",
            " 20  NumCompaniesWorked        1470 non-null   int64 \n",
            " 21  Over18                    1470 non-null   object\n",
            " 22  OverTime                  1470 non-null   object\n",
            " 23  PercentSalaryHike         1470 non-null   int64 \n",
            " 24  PerformanceRating         1470 non-null   int64 \n",
            " 25  RelationshipSatisfaction  1470 non-null   int64 \n",
            " 26  StandardHours             1470 non-null   int64 \n",
            " 27  StockOptionLevel          1470 non-null   int64 \n",
            " 28  TotalWorkingYears         1470 non-null   int64 \n",
            " 29  TrainingTimesLastYear     1470 non-null   int64 \n",
            " 30  WorkLifeBalance           1470 non-null   int64 \n",
            " 31  YearsAtCompany            1470 non-null   int64 \n",
            " 32  YearsInCurrentRole        1470 non-null   int64 \n",
            " 33  YearsSinceLastPromotion   1470 non-null   int64 \n",
            " 34  YearsWithCurrManager      1470 non-null   int64 \n",
            "dtypes: int64(26), object(9)\n",
            "memory usage: 402.1+ KB\n"
          ]
        }
      ]
    },
    {
      "cell_type": "code",
      "source": [
        "df2.info()"
      ],
      "metadata": {
        "colab": {
          "base_uri": "https://localhost:8080/"
        },
        "id": "LrFbfTgpfWuv",
        "outputId": "45aafdbe-e283-45d4-a0bb-4c87b0fbc51c"
      },
      "execution_count": null,
      "outputs": [
        {
          "output_type": "stream",
          "name": "stdout",
          "text": [
            "<class 'pandas.core.frame.DataFrame'>\n",
            "RangeIndex: 10227 entries, 0 to 10226\n",
            "Data columns (total 10 columns):\n",
            " #   Column    Non-Null Count  Dtype \n",
            "---  ------    --------------  ----- \n",
            " 0   market    10227 non-null  object\n",
            " 1   month     10227 non-null  object\n",
            " 2   year      10227 non-null  int64 \n",
            " 3   quantity  10227 non-null  int64 \n",
            " 4   priceMin  10227 non-null  int64 \n",
            " 5   priceMax  10227 non-null  int64 \n",
            " 6   priceMod  10227 non-null  int64 \n",
            " 7   state     10227 non-null  object\n",
            " 8   city      10227 non-null  object\n",
            " 9   date      10227 non-null  object\n",
            "dtypes: int64(5), object(5)\n",
            "memory usage: 799.1+ KB\n"
          ]
        }
      ]
    },
    {
      "cell_type": "markdown",
      "source": [
        "Market Arrivals Questions Practice\n",
        "\n",
        "Q1. For every market find average qunatity of wheat\n",
        "\n",
        "Q2. Find average quantity of wheat for every market in month of january\n",
        "\n",
        "Q3. Find name of the market which is having highest priceMax in month of november\n",
        "\n",
        "Q4. Compare average priceMax for state PB and MP\n",
        "\n",
        "Q5. Find the year when maximum total quantity was traded\n",
        "\n",
        "Q6. Find market in India which has maximum frequency of trading."
      ],
      "metadata": {
        "id": "Mjw51kupy_2M"
      }
    },
    {
      "cell_type": "code",
      "source": [
        "print(df2.groupby('market')[['quantity']].mean()) #Q1"
      ],
      "metadata": {
        "colab": {
          "base_uri": "https://localhost:8080/"
        },
        "id": "Et6xnr6gfZiS",
        "outputId": "97eb29cb-a5d2-4867-b523-7f358f9c9a39"
      },
      "execution_count": null,
      "outputs": [
        {
          "output_type": "stream",
          "name": "stdout",
          "text": [
            "                     quantity\n",
            "market                       \n",
            "ABOHAR(PB)         918.411111\n",
            "AGRA(UP)         46267.721805\n",
            "AHMEDABAD(GUJ)   83698.728000\n",
            "AHMEDNAGAR(MS)   97115.430556\n",
            "AJMER(RAJ)        6286.933333\n",
            "...                       ...\n",
            "UDAIPUR(RAJ)      5623.148649\n",
            "UJJAIN(MP)        7686.772727\n",
            "VANI(MS)         21975.500000\n",
            "VARANASI(UP)     41401.526316\n",
            "YEOLA(MS)       134226.746575\n",
            "\n",
            "[120 rows x 1 columns]\n"
          ]
        }
      ]
    },
    {
      "cell_type": "code",
      "source": [
        "df2.describe()"
      ],
      "metadata": {
        "colab": {
          "base_uri": "https://localhost:8080/",
          "height": 300
        },
        "id": "xJX2twCRiRUD",
        "outputId": "7da72572-589d-4b61-dc5b-c04192418942"
      },
      "execution_count": null,
      "outputs": [
        {
          "output_type": "execute_result",
          "data": {
            "text/plain": [
              "               year      quantity      priceMin      priceMax      priceMod\n",
              "count  10227.000000  1.022700e+04  10227.000000  10227.000000  10227.000000\n",
              "mean    2009.022294  7.660488e+04    646.944363   1212.760731    984.284345\n",
              "std        4.372841  1.244087e+05    673.121850    979.658874    818.471498\n",
              "min     1996.000000  2.000000e+01     16.000000    145.000000     80.000000\n",
              "25%     2006.000000  8.898000e+03    209.000000    557.000000    448.000000\n",
              "50%     2009.000000  2.746000e+04    440.000000    923.000000    747.000000\n",
              "75%     2013.000000  8.835650e+04    828.000000   1527.000000   1248.000000\n",
              "max     2016.000000  1.639032e+06   6000.000000   8192.000000   6400.000000"
            ],
            "text/html": [
              "\n",
              "  <div id=\"df-e2db519a-afdd-4431-9395-738ea77ae37b\" class=\"colab-df-container\">\n",
              "    <div>\n",
              "<style scoped>\n",
              "    .dataframe tbody tr th:only-of-type {\n",
              "        vertical-align: middle;\n",
              "    }\n",
              "\n",
              "    .dataframe tbody tr th {\n",
              "        vertical-align: top;\n",
              "    }\n",
              "\n",
              "    .dataframe thead th {\n",
              "        text-align: right;\n",
              "    }\n",
              "</style>\n",
              "<table border=\"1\" class=\"dataframe\">\n",
              "  <thead>\n",
              "    <tr style=\"text-align: right;\">\n",
              "      <th></th>\n",
              "      <th>year</th>\n",
              "      <th>quantity</th>\n",
              "      <th>priceMin</th>\n",
              "      <th>priceMax</th>\n",
              "      <th>priceMod</th>\n",
              "    </tr>\n",
              "  </thead>\n",
              "  <tbody>\n",
              "    <tr>\n",
              "      <th>count</th>\n",
              "      <td>10227.000000</td>\n",
              "      <td>1.022700e+04</td>\n",
              "      <td>10227.000000</td>\n",
              "      <td>10227.000000</td>\n",
              "      <td>10227.000000</td>\n",
              "    </tr>\n",
              "    <tr>\n",
              "      <th>mean</th>\n",
              "      <td>2009.022294</td>\n",
              "      <td>7.660488e+04</td>\n",
              "      <td>646.944363</td>\n",
              "      <td>1212.760731</td>\n",
              "      <td>984.284345</td>\n",
              "    </tr>\n",
              "    <tr>\n",
              "      <th>std</th>\n",
              "      <td>4.372841</td>\n",
              "      <td>1.244087e+05</td>\n",
              "      <td>673.121850</td>\n",
              "      <td>979.658874</td>\n",
              "      <td>818.471498</td>\n",
              "    </tr>\n",
              "    <tr>\n",
              "      <th>min</th>\n",
              "      <td>1996.000000</td>\n",
              "      <td>2.000000e+01</td>\n",
              "      <td>16.000000</td>\n",
              "      <td>145.000000</td>\n",
              "      <td>80.000000</td>\n",
              "    </tr>\n",
              "    <tr>\n",
              "      <th>25%</th>\n",
              "      <td>2006.000000</td>\n",
              "      <td>8.898000e+03</td>\n",
              "      <td>209.000000</td>\n",
              "      <td>557.000000</td>\n",
              "      <td>448.000000</td>\n",
              "    </tr>\n",
              "    <tr>\n",
              "      <th>50%</th>\n",
              "      <td>2009.000000</td>\n",
              "      <td>2.746000e+04</td>\n",
              "      <td>440.000000</td>\n",
              "      <td>923.000000</td>\n",
              "      <td>747.000000</td>\n",
              "    </tr>\n",
              "    <tr>\n",
              "      <th>75%</th>\n",
              "      <td>2013.000000</td>\n",
              "      <td>8.835650e+04</td>\n",
              "      <td>828.000000</td>\n",
              "      <td>1527.000000</td>\n",
              "      <td>1248.000000</td>\n",
              "    </tr>\n",
              "    <tr>\n",
              "      <th>max</th>\n",
              "      <td>2016.000000</td>\n",
              "      <td>1.639032e+06</td>\n",
              "      <td>6000.000000</td>\n",
              "      <td>8192.000000</td>\n",
              "      <td>6400.000000</td>\n",
              "    </tr>\n",
              "  </tbody>\n",
              "</table>\n",
              "</div>\n",
              "    <div class=\"colab-df-buttons\">\n",
              "\n",
              "  <div class=\"colab-df-container\">\n",
              "    <button class=\"colab-df-convert\" onclick=\"convertToInteractive('df-e2db519a-afdd-4431-9395-738ea77ae37b')\"\n",
              "            title=\"Convert this dataframe to an interactive table.\"\n",
              "            style=\"display:none;\">\n",
              "\n",
              "  <svg xmlns=\"http://www.w3.org/2000/svg\" height=\"24px\" viewBox=\"0 -960 960 960\">\n",
              "    <path d=\"M120-120v-720h720v720H120Zm60-500h600v-160H180v160Zm220 220h160v-160H400v160Zm0 220h160v-160H400v160ZM180-400h160v-160H180v160Zm440 0h160v-160H620v160ZM180-180h160v-160H180v160Zm440 0h160v-160H620v160Z\"/>\n",
              "  </svg>\n",
              "    </button>\n",
              "\n",
              "  <style>\n",
              "    .colab-df-container {\n",
              "      display:flex;\n",
              "      gap: 12px;\n",
              "    }\n",
              "\n",
              "    .colab-df-convert {\n",
              "      background-color: #E8F0FE;\n",
              "      border: none;\n",
              "      border-radius: 50%;\n",
              "      cursor: pointer;\n",
              "      display: none;\n",
              "      fill: #1967D2;\n",
              "      height: 32px;\n",
              "      padding: 0 0 0 0;\n",
              "      width: 32px;\n",
              "    }\n",
              "\n",
              "    .colab-df-convert:hover {\n",
              "      background-color: #E2EBFA;\n",
              "      box-shadow: 0px 1px 2px rgba(60, 64, 67, 0.3), 0px 1px 3px 1px rgba(60, 64, 67, 0.15);\n",
              "      fill: #174EA6;\n",
              "    }\n",
              "\n",
              "    .colab-df-buttons div {\n",
              "      margin-bottom: 4px;\n",
              "    }\n",
              "\n",
              "    [theme=dark] .colab-df-convert {\n",
              "      background-color: #3B4455;\n",
              "      fill: #D2E3FC;\n",
              "    }\n",
              "\n",
              "    [theme=dark] .colab-df-convert:hover {\n",
              "      background-color: #434B5C;\n",
              "      box-shadow: 0px 1px 3px 1px rgba(0, 0, 0, 0.15);\n",
              "      filter: drop-shadow(0px 1px 2px rgba(0, 0, 0, 0.3));\n",
              "      fill: #FFFFFF;\n",
              "    }\n",
              "  </style>\n",
              "\n",
              "    <script>\n",
              "      const buttonEl =\n",
              "        document.querySelector('#df-e2db519a-afdd-4431-9395-738ea77ae37b button.colab-df-convert');\n",
              "      buttonEl.style.display =\n",
              "        google.colab.kernel.accessAllowed ? 'block' : 'none';\n",
              "\n",
              "      async function convertToInteractive(key) {\n",
              "        const element = document.querySelector('#df-e2db519a-afdd-4431-9395-738ea77ae37b');\n",
              "        const dataTable =\n",
              "          await google.colab.kernel.invokeFunction('convertToInteractive',\n",
              "                                                    [key], {});\n",
              "        if (!dataTable) return;\n",
              "\n",
              "        const docLinkHtml = 'Like what you see? Visit the ' +\n",
              "          '<a target=\"_blank\" href=https://colab.research.google.com/notebooks/data_table.ipynb>data table notebook</a>'\n",
              "          + ' to learn more about interactive tables.';\n",
              "        element.innerHTML = '';\n",
              "        dataTable['output_type'] = 'display_data';\n",
              "        await google.colab.output.renderOutput(dataTable, element);\n",
              "        const docLink = document.createElement('div');\n",
              "        docLink.innerHTML = docLinkHtml;\n",
              "        element.appendChild(docLink);\n",
              "      }\n",
              "    </script>\n",
              "  </div>\n",
              "\n",
              "\n",
              "<div id=\"df-d5f8da97-c95b-4256-a80a-f27be5a7f83e\">\n",
              "  <button class=\"colab-df-quickchart\" onclick=\"quickchart('df-d5f8da97-c95b-4256-a80a-f27be5a7f83e')\"\n",
              "            title=\"Suggest charts\"\n",
              "            style=\"display:none;\">\n",
              "\n",
              "<svg xmlns=\"http://www.w3.org/2000/svg\" height=\"24px\"viewBox=\"0 0 24 24\"\n",
              "     width=\"24px\">\n",
              "    <g>\n",
              "        <path d=\"M19 3H5c-1.1 0-2 .9-2 2v14c0 1.1.9 2 2 2h14c1.1 0 2-.9 2-2V5c0-1.1-.9-2-2-2zM9 17H7v-7h2v7zm4 0h-2V7h2v10zm4 0h-2v-4h2v4z\"/>\n",
              "    </g>\n",
              "</svg>\n",
              "  </button>\n",
              "\n",
              "<style>\n",
              "  .colab-df-quickchart {\n",
              "      --bg-color: #E8F0FE;\n",
              "      --fill-color: #1967D2;\n",
              "      --hover-bg-color: #E2EBFA;\n",
              "      --hover-fill-color: #174EA6;\n",
              "      --disabled-fill-color: #AAA;\n",
              "      --disabled-bg-color: #DDD;\n",
              "  }\n",
              "\n",
              "  [theme=dark] .colab-df-quickchart {\n",
              "      --bg-color: #3B4455;\n",
              "      --fill-color: #D2E3FC;\n",
              "      --hover-bg-color: #434B5C;\n",
              "      --hover-fill-color: #FFFFFF;\n",
              "      --disabled-bg-color: #3B4455;\n",
              "      --disabled-fill-color: #666;\n",
              "  }\n",
              "\n",
              "  .colab-df-quickchart {\n",
              "    background-color: var(--bg-color);\n",
              "    border: none;\n",
              "    border-radius: 50%;\n",
              "    cursor: pointer;\n",
              "    display: none;\n",
              "    fill: var(--fill-color);\n",
              "    height: 32px;\n",
              "    padding: 0;\n",
              "    width: 32px;\n",
              "  }\n",
              "\n",
              "  .colab-df-quickchart:hover {\n",
              "    background-color: var(--hover-bg-color);\n",
              "    box-shadow: 0 1px 2px rgba(60, 64, 67, 0.3), 0 1px 3px 1px rgba(60, 64, 67, 0.15);\n",
              "    fill: var(--button-hover-fill-color);\n",
              "  }\n",
              "\n",
              "  .colab-df-quickchart-complete:disabled,\n",
              "  .colab-df-quickchart-complete:disabled:hover {\n",
              "    background-color: var(--disabled-bg-color);\n",
              "    fill: var(--disabled-fill-color);\n",
              "    box-shadow: none;\n",
              "  }\n",
              "\n",
              "  .colab-df-spinner {\n",
              "    border: 2px solid var(--fill-color);\n",
              "    border-color: transparent;\n",
              "    border-bottom-color: var(--fill-color);\n",
              "    animation:\n",
              "      spin 1s steps(1) infinite;\n",
              "  }\n",
              "\n",
              "  @keyframes spin {\n",
              "    0% {\n",
              "      border-color: transparent;\n",
              "      border-bottom-color: var(--fill-color);\n",
              "      border-left-color: var(--fill-color);\n",
              "    }\n",
              "    20% {\n",
              "      border-color: transparent;\n",
              "      border-left-color: var(--fill-color);\n",
              "      border-top-color: var(--fill-color);\n",
              "    }\n",
              "    30% {\n",
              "      border-color: transparent;\n",
              "      border-left-color: var(--fill-color);\n",
              "      border-top-color: var(--fill-color);\n",
              "      border-right-color: var(--fill-color);\n",
              "    }\n",
              "    40% {\n",
              "      border-color: transparent;\n",
              "      border-right-color: var(--fill-color);\n",
              "      border-top-color: var(--fill-color);\n",
              "    }\n",
              "    60% {\n",
              "      border-color: transparent;\n",
              "      border-right-color: var(--fill-color);\n",
              "    }\n",
              "    80% {\n",
              "      border-color: transparent;\n",
              "      border-right-color: var(--fill-color);\n",
              "      border-bottom-color: var(--fill-color);\n",
              "    }\n",
              "    90% {\n",
              "      border-color: transparent;\n",
              "      border-bottom-color: var(--fill-color);\n",
              "    }\n",
              "  }\n",
              "</style>\n",
              "\n",
              "  <script>\n",
              "    async function quickchart(key) {\n",
              "      const quickchartButtonEl =\n",
              "        document.querySelector('#' + key + ' button');\n",
              "      quickchartButtonEl.disabled = true;  // To prevent multiple clicks.\n",
              "      quickchartButtonEl.classList.add('colab-df-spinner');\n",
              "      try {\n",
              "        const charts = await google.colab.kernel.invokeFunction(\n",
              "            'suggestCharts', [key], {});\n",
              "      } catch (error) {\n",
              "        console.error('Error during call to suggestCharts:', error);\n",
              "      }\n",
              "      quickchartButtonEl.classList.remove('colab-df-spinner');\n",
              "      quickchartButtonEl.classList.add('colab-df-quickchart-complete');\n",
              "    }\n",
              "    (() => {\n",
              "      let quickchartButtonEl =\n",
              "        document.querySelector('#df-d5f8da97-c95b-4256-a80a-f27be5a7f83e button');\n",
              "      quickchartButtonEl.style.display =\n",
              "        google.colab.kernel.accessAllowed ? 'block' : 'none';\n",
              "    })();\n",
              "  </script>\n",
              "</div>\n",
              "\n",
              "    </div>\n",
              "  </div>\n"
            ],
            "application/vnd.google.colaboratory.intrinsic+json": {
              "type": "dataframe",
              "summary": "{\n  \"name\": \"df2\",\n  \"rows\": 8,\n  \"fields\": [\n    {\n      \"column\": \"year\",\n      \"properties\": {\n        \"dtype\": \"number\",\n        \"std\": 3087.677716734464,\n        \"min\": 4.37284122352617,\n        \"max\": 10227.0,\n        \"num_unique_values\": 8,\n        \"samples\": [\n          2009.022293927838,\n          2009.0,\n          10227.0\n        ],\n        \"semantic_type\": \"\",\n        \"description\": \"\"\n      }\n    },\n    {\n      \"column\": \"quantity\",\n      \"properties\": {\n        \"dtype\": \"number\",\n        \"std\": 564286.5024415975,\n        \"min\": 20.0,\n        \"max\": 1639032.0,\n        \"num_unique_values\": 8,\n        \"samples\": [\n          76604.8800234673,\n          27460.0,\n          10227.0\n        ],\n        \"semantic_type\": \"\",\n        \"description\": \"\"\n      }\n    },\n    {\n      \"column\": \"priceMin\",\n      \"properties\": {\n        \"dtype\": \"number\",\n        \"std\": 3723.875954267767,\n        \"min\": 16.0,\n        \"max\": 10227.0,\n        \"num_unique_values\": 8,\n        \"samples\": [\n          646.94436296079,\n          440.0,\n          10227.0\n        ],\n        \"semantic_type\": \"\",\n        \"description\": \"\"\n      }\n    },\n    {\n      \"column\": \"priceMax\",\n      \"properties\": {\n        \"dtype\": \"number\",\n        \"std\": 3910.760451837643,\n        \"min\": 145.0,\n        \"max\": 10227.0,\n        \"num_unique_values\": 8,\n        \"samples\": [\n          1212.7607313972817,\n          923.0,\n          10227.0\n        ],\n        \"semantic_type\": \"\",\n        \"description\": \"\"\n      }\n    },\n    {\n      \"column\": \"priceMod\",\n      \"properties\": {\n        \"dtype\": \"number\",\n        \"std\": 3676.8699826749485,\n        \"min\": 80.0,\n        \"max\": 10227.0,\n        \"num_unique_values\": 8,\n        \"samples\": [\n          984.2843453603207,\n          747.0,\n          10227.0\n        ],\n        \"semantic_type\": \"\",\n        \"description\": \"\"\n      }\n    }\n  ]\n}"
            }
          },
          "metadata": {},
          "execution_count": 103
        }
      ]
    },
    {
      "cell_type": "code",
      "source": [
        "print(df2.groupby('market')[['priceMax']].max().period.month)"
      ],
      "metadata": {
        "colab": {
          "base_uri": "https://localhost:8080/"
        },
        "id": "oNsVPGdQiUzN",
        "outputId": "95a38760-290c-40a1-e1e6-06c93d19f391"
      },
      "execution_count": null,
      "outputs": [
        {
          "output_type": "stream",
          "name": "stdout",
          "text": [
            "                priceMax\n",
            "market                  \n",
            "ABOHAR(PB)          5109\n",
            "AGRA(UP)            4468\n",
            "AHMEDABAD(GUJ)      5068\n",
            "AHMEDNAGAR(MS)      6300\n",
            "AJMER(RAJ)          4861\n",
            "...                  ...\n",
            "UDAIPUR(RAJ)        4860\n",
            "UJJAIN(MP)          5000\n",
            "VANI(MS)            4658\n",
            "VARANASI(UP)        4461\n",
            "YEOLA(MS)           5038\n",
            "\n",
            "[120 rows x 1 columns]\n"
          ]
        }
      ]
    },
    {
      "cell_type": "code",
      "source": [
        "d1.dtypes"
      ],
      "metadata": {
        "colab": {
          "base_uri": "https://localhost:8080/",
          "height": 397
        },
        "id": "751CD8mMtpky",
        "outputId": "03e74d5f-e62f-4915-ade6-436a0feab210"
      },
      "execution_count": null,
      "outputs": [
        {
          "output_type": "execute_result",
          "data": {
            "text/plain": [
              "market      object\n",
              "month       object\n",
              "year         int64\n",
              "quantity     int64\n",
              "priceMin     int64\n",
              "priceMax     int64\n",
              "priceMod     int64\n",
              "state       object\n",
              "city        object\n",
              "date        object\n",
              "dtype: object"
            ],
            "text/html": [
              "<div>\n",
              "<style scoped>\n",
              "    .dataframe tbody tr th:only-of-type {\n",
              "        vertical-align: middle;\n",
              "    }\n",
              "\n",
              "    .dataframe tbody tr th {\n",
              "        vertical-align: top;\n",
              "    }\n",
              "\n",
              "    .dataframe thead th {\n",
              "        text-align: right;\n",
              "    }\n",
              "</style>\n",
              "<table border=\"1\" class=\"dataframe\">\n",
              "  <thead>\n",
              "    <tr style=\"text-align: right;\">\n",
              "      <th></th>\n",
              "      <th>0</th>\n",
              "    </tr>\n",
              "  </thead>\n",
              "  <tbody>\n",
              "    <tr>\n",
              "      <th>market</th>\n",
              "      <td>object</td>\n",
              "    </tr>\n",
              "    <tr>\n",
              "      <th>month</th>\n",
              "      <td>object</td>\n",
              "    </tr>\n",
              "    <tr>\n",
              "      <th>year</th>\n",
              "      <td>int64</td>\n",
              "    </tr>\n",
              "    <tr>\n",
              "      <th>quantity</th>\n",
              "      <td>int64</td>\n",
              "    </tr>\n",
              "    <tr>\n",
              "      <th>priceMin</th>\n",
              "      <td>int64</td>\n",
              "    </tr>\n",
              "    <tr>\n",
              "      <th>priceMax</th>\n",
              "      <td>int64</td>\n",
              "    </tr>\n",
              "    <tr>\n",
              "      <th>priceMod</th>\n",
              "      <td>int64</td>\n",
              "    </tr>\n",
              "    <tr>\n",
              "      <th>state</th>\n",
              "      <td>object</td>\n",
              "    </tr>\n",
              "    <tr>\n",
              "      <th>city</th>\n",
              "      <td>object</td>\n",
              "    </tr>\n",
              "    <tr>\n",
              "      <th>date</th>\n",
              "      <td>object</td>\n",
              "    </tr>\n",
              "  </tbody>\n",
              "</table>\n",
              "</div><br><label><b>dtype:</b> object</label>"
            ]
          },
          "metadata": {},
          "execution_count": 113
        }
      ]
    },
    {
      "cell_type": "code",
      "source": [
        "d1.loc[d1['month'] == 'January',:].groupby('market')['quantity'].mean() #Q2"
      ],
      "metadata": {
        "colab": {
          "base_uri": "https://localhost:8080/",
          "height": 489
        },
        "id": "C7cngsF3tJlV",
        "outputId": "b481d578-efba-4c3c-b28e-59fdb2c99a67"
      },
      "execution_count": null,
      "outputs": [
        {
          "output_type": "execute_result",
          "data": {
            "text/plain": [
              "market\n",
              "ABOHAR(PB)           967.500000\n",
              "AGRA(UP)           53761.666667\n",
              "AHMEDABAD(GUJ)    103115.090909\n",
              "AHMEDNAGAR(MS)    143425.307692\n",
              "AJMER(RAJ)          3271.000000\n",
              "                      ...      \n",
              "UDAIPUR(RAJ)        5313.428571\n",
              "UJJAIN(MP)          1627.000000\n",
              "VANI(MS)           33692.555556\n",
              "VARANASI(UP)       35033.333333\n",
              "YEOLA(MS)         258187.615385\n",
              "Name: quantity, Length: 105, dtype: float64"
            ],
            "text/html": [
              "<div>\n",
              "<style scoped>\n",
              "    .dataframe tbody tr th:only-of-type {\n",
              "        vertical-align: middle;\n",
              "    }\n",
              "\n",
              "    .dataframe tbody tr th {\n",
              "        vertical-align: top;\n",
              "    }\n",
              "\n",
              "    .dataframe thead th {\n",
              "        text-align: right;\n",
              "    }\n",
              "</style>\n",
              "<table border=\"1\" class=\"dataframe\">\n",
              "  <thead>\n",
              "    <tr style=\"text-align: right;\">\n",
              "      <th></th>\n",
              "      <th>quantity</th>\n",
              "    </tr>\n",
              "    <tr>\n",
              "      <th>market</th>\n",
              "      <th></th>\n",
              "    </tr>\n",
              "  </thead>\n",
              "  <tbody>\n",
              "    <tr>\n",
              "      <th>ABOHAR(PB)</th>\n",
              "      <td>967.500000</td>\n",
              "    </tr>\n",
              "    <tr>\n",
              "      <th>AGRA(UP)</th>\n",
              "      <td>53761.666667</td>\n",
              "    </tr>\n",
              "    <tr>\n",
              "      <th>AHMEDABAD(GUJ)</th>\n",
              "      <td>103115.090909</td>\n",
              "    </tr>\n",
              "    <tr>\n",
              "      <th>AHMEDNAGAR(MS)</th>\n",
              "      <td>143425.307692</td>\n",
              "    </tr>\n",
              "    <tr>\n",
              "      <th>AJMER(RAJ)</th>\n",
              "      <td>3271.000000</td>\n",
              "    </tr>\n",
              "    <tr>\n",
              "      <th>...</th>\n",
              "      <td>...</td>\n",
              "    </tr>\n",
              "    <tr>\n",
              "      <th>UDAIPUR(RAJ)</th>\n",
              "      <td>5313.428571</td>\n",
              "    </tr>\n",
              "    <tr>\n",
              "      <th>UJJAIN(MP)</th>\n",
              "      <td>1627.000000</td>\n",
              "    </tr>\n",
              "    <tr>\n",
              "      <th>VANI(MS)</th>\n",
              "      <td>33692.555556</td>\n",
              "    </tr>\n",
              "    <tr>\n",
              "      <th>VARANASI(UP)</th>\n",
              "      <td>35033.333333</td>\n",
              "    </tr>\n",
              "    <tr>\n",
              "      <th>YEOLA(MS)</th>\n",
              "      <td>258187.615385</td>\n",
              "    </tr>\n",
              "  </tbody>\n",
              "</table>\n",
              "<p>105 rows × 1 columns</p>\n",
              "</div><br><label><b>dtype:</b> float64</label>"
            ]
          },
          "metadata": {},
          "execution_count": 112
        }
      ]
    },
    {
      "cell_type": "code",
      "source": [
        "d1.loc[d1['month']=='November',:].groupby('market')['priceMax'].max() #Q3"
      ],
      "metadata": {
        "colab": {
          "base_uri": "https://localhost:8080/",
          "height": 489
        },
        "id": "wrnbJIU8uJE0",
        "outputId": "6f930231-69ab-41f5-f4a0-049ab359be26"
      },
      "execution_count": null,
      "outputs": [
        {
          "output_type": "execute_result",
          "data": {
            "text/plain": [
              "market\n",
              "ABOHAR(PB)        3600\n",
              "AGRA(UP)          3718\n",
              "AHMEDABAD(GUJ)    4100\n",
              "AHMEDNAGAR(MS)    4045\n",
              "AJMER(RAJ)        2506\n",
              "                  ... \n",
              "UDAIPUR(RAJ)      3267\n",
              "UJJAIN(MP)        1600\n",
              "VANI(MS)          3342\n",
              "VARANASI(UP)      2705\n",
              "YEOLA(MS)         2960\n",
              "Name: priceMax, Length: 108, dtype: int64"
            ],
            "text/html": [
              "<div>\n",
              "<style scoped>\n",
              "    .dataframe tbody tr th:only-of-type {\n",
              "        vertical-align: middle;\n",
              "    }\n",
              "\n",
              "    .dataframe tbody tr th {\n",
              "        vertical-align: top;\n",
              "    }\n",
              "\n",
              "    .dataframe thead th {\n",
              "        text-align: right;\n",
              "    }\n",
              "</style>\n",
              "<table border=\"1\" class=\"dataframe\">\n",
              "  <thead>\n",
              "    <tr style=\"text-align: right;\">\n",
              "      <th></th>\n",
              "      <th>priceMax</th>\n",
              "    </tr>\n",
              "    <tr>\n",
              "      <th>market</th>\n",
              "      <th></th>\n",
              "    </tr>\n",
              "  </thead>\n",
              "  <tbody>\n",
              "    <tr>\n",
              "      <th>ABOHAR(PB)</th>\n",
              "      <td>3600</td>\n",
              "    </tr>\n",
              "    <tr>\n",
              "      <th>AGRA(UP)</th>\n",
              "      <td>3718</td>\n",
              "    </tr>\n",
              "    <tr>\n",
              "      <th>AHMEDABAD(GUJ)</th>\n",
              "      <td>4100</td>\n",
              "    </tr>\n",
              "    <tr>\n",
              "      <th>AHMEDNAGAR(MS)</th>\n",
              "      <td>4045</td>\n",
              "    </tr>\n",
              "    <tr>\n",
              "      <th>AJMER(RAJ)</th>\n",
              "      <td>2506</td>\n",
              "    </tr>\n",
              "    <tr>\n",
              "      <th>...</th>\n",
              "      <td>...</td>\n",
              "    </tr>\n",
              "    <tr>\n",
              "      <th>UDAIPUR(RAJ)</th>\n",
              "      <td>3267</td>\n",
              "    </tr>\n",
              "    <tr>\n",
              "      <th>UJJAIN(MP)</th>\n",
              "      <td>1600</td>\n",
              "    </tr>\n",
              "    <tr>\n",
              "      <th>VANI(MS)</th>\n",
              "      <td>3342</td>\n",
              "    </tr>\n",
              "    <tr>\n",
              "      <th>VARANASI(UP)</th>\n",
              "      <td>2705</td>\n",
              "    </tr>\n",
              "    <tr>\n",
              "      <th>YEOLA(MS)</th>\n",
              "      <td>2960</td>\n",
              "    </tr>\n",
              "  </tbody>\n",
              "</table>\n",
              "<p>108 rows × 1 columns</p>\n",
              "</div><br><label><b>dtype:</b> int64</label>"
            ]
          },
          "metadata": {},
          "execution_count": 114
        }
      ]
    },
    {
      "cell_type": "code",
      "source": [
        "#Q4: Compare average priceMax for state PB and MP\n",
        "d1.loc[d1['state'].isin(['PB','MP'])].groupby('state')['priceMax'].mean()"
      ],
      "metadata": {
        "colab": {
          "base_uri": "https://localhost:8080/",
          "height": 178
        },
        "id": "W-wX0pyIut2F",
        "outputId": "358249d2-bde6-454c-93e2-367c6ac43672"
      },
      "execution_count": null,
      "outputs": [
        {
          "output_type": "execute_result",
          "data": {
            "text/plain": [
              "state\n",
              "MP     998.611650\n",
              "PB    1384.215852\n",
              "Name: priceMax, dtype: float64"
            ],
            "text/html": [
              "<div>\n",
              "<style scoped>\n",
              "    .dataframe tbody tr th:only-of-type {\n",
              "        vertical-align: middle;\n",
              "    }\n",
              "\n",
              "    .dataframe tbody tr th {\n",
              "        vertical-align: top;\n",
              "    }\n",
              "\n",
              "    .dataframe thead th {\n",
              "        text-align: right;\n",
              "    }\n",
              "</style>\n",
              "<table border=\"1\" class=\"dataframe\">\n",
              "  <thead>\n",
              "    <tr style=\"text-align: right;\">\n",
              "      <th></th>\n",
              "      <th>priceMax</th>\n",
              "    </tr>\n",
              "    <tr>\n",
              "      <th>state</th>\n",
              "      <th></th>\n",
              "    </tr>\n",
              "  </thead>\n",
              "  <tbody>\n",
              "    <tr>\n",
              "      <th>MP</th>\n",
              "      <td>998.611650</td>\n",
              "    </tr>\n",
              "    <tr>\n",
              "      <th>PB</th>\n",
              "      <td>1384.215852</td>\n",
              "    </tr>\n",
              "  </tbody>\n",
              "</table>\n",
              "</div><br><label><b>dtype:</b> float64</label>"
            ]
          },
          "metadata": {},
          "execution_count": 115
        }
      ]
    },
    {
      "cell_type": "code",
      "source": [
        "#Q5: Find the year when maximum total quantity was traded\n",
        "d1.groupby('year')['quantity'].sum().sort_values(ascending=False)"
      ],
      "metadata": {
        "colab": {
          "base_uri": "https://localhost:8080/",
          "height": 489
        },
        "id": "sy0UKNebwHw0",
        "outputId": "fe01847c-b68b-40b3-9707-f6a272ded093"
      },
      "execution_count": null,
      "outputs": [
        {
          "output_type": "execute_result",
          "data": {
            "text/plain": [
              "market\n",
              "BANGALORE             76491944\n",
              "PUNE(MS)              59470570\n",
              "LASALGAON(MS)         58765209\n",
              "PIMPALGAON(MS)        53231396\n",
              "DELHI                 46305615\n",
              "                        ...   \n",
              "ETAWAH(UP)                 590\n",
              "SRIGANGANAGAR(RAJ)         400\n",
              "CHALLAKERE(KNT)            350\n",
              "MEERUT(UP)                 265\n",
              "MIDNAPUR(WB)               120\n",
              "Name: quantity, Length: 120, dtype: int64"
            ],
            "text/html": [
              "<div>\n",
              "<style scoped>\n",
              "    .dataframe tbody tr th:only-of-type {\n",
              "        vertical-align: middle;\n",
              "    }\n",
              "\n",
              "    .dataframe tbody tr th {\n",
              "        vertical-align: top;\n",
              "    }\n",
              "\n",
              "    .dataframe thead th {\n",
              "        text-align: right;\n",
              "    }\n",
              "</style>\n",
              "<table border=\"1\" class=\"dataframe\">\n",
              "  <thead>\n",
              "    <tr style=\"text-align: right;\">\n",
              "      <th></th>\n",
              "      <th>quantity</th>\n",
              "    </tr>\n",
              "    <tr>\n",
              "      <th>market</th>\n",
              "      <th></th>\n",
              "    </tr>\n",
              "  </thead>\n",
              "  <tbody>\n",
              "    <tr>\n",
              "      <th>BANGALORE</th>\n",
              "      <td>76491944</td>\n",
              "    </tr>\n",
              "    <tr>\n",
              "      <th>PUNE(MS)</th>\n",
              "      <td>59470570</td>\n",
              "    </tr>\n",
              "    <tr>\n",
              "      <th>LASALGAON(MS)</th>\n",
              "      <td>58765209</td>\n",
              "    </tr>\n",
              "    <tr>\n",
              "      <th>PIMPALGAON(MS)</th>\n",
              "      <td>53231396</td>\n",
              "    </tr>\n",
              "    <tr>\n",
              "      <th>DELHI</th>\n",
              "      <td>46305615</td>\n",
              "    </tr>\n",
              "    <tr>\n",
              "      <th>...</th>\n",
              "      <td>...</td>\n",
              "    </tr>\n",
              "    <tr>\n",
              "      <th>ETAWAH(UP)</th>\n",
              "      <td>590</td>\n",
              "    </tr>\n",
              "    <tr>\n",
              "      <th>SRIGANGANAGAR(RAJ)</th>\n",
              "      <td>400</td>\n",
              "    </tr>\n",
              "    <tr>\n",
              "      <th>CHALLAKERE(KNT)</th>\n",
              "      <td>350</td>\n",
              "    </tr>\n",
              "    <tr>\n",
              "      <th>MEERUT(UP)</th>\n",
              "      <td>265</td>\n",
              "    </tr>\n",
              "    <tr>\n",
              "      <th>MIDNAPUR(WB)</th>\n",
              "      <td>120</td>\n",
              "    </tr>\n",
              "  </tbody>\n",
              "</table>\n",
              "<p>120 rows × 1 columns</p>\n",
              "</div><br><label><b>dtype:</b> int64</label>"
            ]
          },
          "metadata": {},
          "execution_count": 118
        }
      ]
    },
    {
      "cell_type": "code",
      "source": [
        "# Q6:Find market in India which has maximum frequency of trading. #count()\n",
        "d1.groupby('market')['state'].count().sort_values(ascending=False)"
      ],
      "metadata": {
        "colab": {
          "base_uri": "https://localhost:8080/",
          "height": 489
        },
        "id": "hOSZNbGwxPCs",
        "outputId": "4279c393-e9b6-411b-be8c-2b137be515a5"
      },
      "execution_count": null,
      "outputs": [
        {
          "output_type": "execute_result",
          "data": {
            "text/plain": [
              "market\n",
              "LASALGAON(MS)         242\n",
              "PIMPALGAON(MS)        224\n",
              "MANMAD(MS)            218\n",
              "LONAND(MS)            211\n",
              "MAHUVA(GUJ)           210\n",
              "                     ... \n",
              "RAJAHMUNDRY(AP)         1\n",
              "SRIGANGANAGAR(RAJ)      1\n",
              "MEERUT(UP)              1\n",
              "CHALLAKERE(KNT)         1\n",
              "NEEMUCH(MP)             1\n",
              "Name: state, Length: 120, dtype: int64"
            ],
            "text/html": [
              "<div>\n",
              "<style scoped>\n",
              "    .dataframe tbody tr th:only-of-type {\n",
              "        vertical-align: middle;\n",
              "    }\n",
              "\n",
              "    .dataframe tbody tr th {\n",
              "        vertical-align: top;\n",
              "    }\n",
              "\n",
              "    .dataframe thead th {\n",
              "        text-align: right;\n",
              "    }\n",
              "</style>\n",
              "<table border=\"1\" class=\"dataframe\">\n",
              "  <thead>\n",
              "    <tr style=\"text-align: right;\">\n",
              "      <th></th>\n",
              "      <th>state</th>\n",
              "    </tr>\n",
              "    <tr>\n",
              "      <th>market</th>\n",
              "      <th></th>\n",
              "    </tr>\n",
              "  </thead>\n",
              "  <tbody>\n",
              "    <tr>\n",
              "      <th>LASALGAON(MS)</th>\n",
              "      <td>242</td>\n",
              "    </tr>\n",
              "    <tr>\n",
              "      <th>PIMPALGAON(MS)</th>\n",
              "      <td>224</td>\n",
              "    </tr>\n",
              "    <tr>\n",
              "      <th>MANMAD(MS)</th>\n",
              "      <td>218</td>\n",
              "    </tr>\n",
              "    <tr>\n",
              "      <th>LONAND(MS)</th>\n",
              "      <td>211</td>\n",
              "    </tr>\n",
              "    <tr>\n",
              "      <th>MAHUVA(GUJ)</th>\n",
              "      <td>210</td>\n",
              "    </tr>\n",
              "    <tr>\n",
              "      <th>...</th>\n",
              "      <td>...</td>\n",
              "    </tr>\n",
              "    <tr>\n",
              "      <th>RAJAHMUNDRY(AP)</th>\n",
              "      <td>1</td>\n",
              "    </tr>\n",
              "    <tr>\n",
              "      <th>SRIGANGANAGAR(RAJ)</th>\n",
              "      <td>1</td>\n",
              "    </tr>\n",
              "    <tr>\n",
              "      <th>MEERUT(UP)</th>\n",
              "      <td>1</td>\n",
              "    </tr>\n",
              "    <tr>\n",
              "      <th>CHALLAKERE(KNT)</th>\n",
              "      <td>1</td>\n",
              "    </tr>\n",
              "    <tr>\n",
              "      <th>NEEMUCH(MP)</th>\n",
              "      <td>1</td>\n",
              "    </tr>\n",
              "  </tbody>\n",
              "</table>\n",
              "<p>120 rows × 1 columns</p>\n",
              "</div><br><label><b>dtype:</b> int64</label>"
            ]
          },
          "metadata": {},
          "execution_count": 122
        }
      ]
    }
  ]
}